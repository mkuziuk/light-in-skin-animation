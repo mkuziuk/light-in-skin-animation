{
 "cells": [
  {
   "cell_type": "code",
   "execution_count": 1,
   "id": "d03a5abf-eae9-41a2-845e-076a6ef89bdf",
   "metadata": {},
   "outputs": [
    {
     "name": "stdout",
     "output_type": "stream",
     "text": [
      "Successfully imported xopto version: 0.2.3\n",
      "\n",
      "--- Verifying PyOpenCL Installation ---\n",
      "Found 2 OpenCL platform(s).\n",
      "\n",
      "--- Platform 0: Intel(R) OpenCL Graphics ---\n",
      "  Found 1 device(s).\n",
      "    Device 0: Intel(R) Iris(R) Xe Graphics\n",
      "      Type: ALL | GPU\n",
      "      Max Compute Units: 96\n",
      "\n",
      "--- Platform 1: Portable Computing Language ---\n",
      "  Found 1 device(s).\n",
      "    Device 0: cpu-haswell-13th Gen Intel(R) Core(TM) i9-13900H\n",
      "      Type: ALL | CPU\n",
      "      Max Compute Units: 20\n"
     ]
    }
   ],
   "source": [
    "import pyopencl as cl\n",
    "import xopto\n",
    "\n",
    "print(f\"Successfully imported xopto version: {xopto.__version__}\")\n",
    "\n",
    "print(\"\\n--- Verifying PyOpenCL Installation ---\")\n",
    "platforms = cl.get_platforms()\n",
    "if not platforms:\n",
    "    print(\"!!! ERROR: No OpenCL platforms found. Check Intel OpenCL runtime installation.\")\n",
    "else:\n",
    "    print(f\"Found {len(platforms)} OpenCL platform(s).\")\n",
    "    for i, platform in enumerate(platforms):\n",
    "        print(f\"\\n--- Platform {i}: {platform.name} ---\")\n",
    "        devices = platform.get_devices()\n",
    "        if not devices:\n",
    "            print(\"  No devices found on this platform.\")\n",
    "        else:\n",
    "            print(f\"  Found {len(devices)} device(s).\")\n",
    "            for j, device in enumerate(devices):\n",
    "                print(f\"    Device {j}: {device.name}\")\n",
    "                print(f\"      Type: {cl.device_type.to_string(device.type)}\")\n",
    "                print(f\"      Max Compute Units: {device.max_compute_units}\")"
   ]
  },
  {
   "cell_type": "code",
   "execution_count": 2,
   "id": "b59d3090-62ab-4dc1-9f5e-b18832373559",
   "metadata": {},
   "outputs": [],
   "source": [
    "import numpy as np\n",
    "from matplotlib import pyplot as pp\n",
    "from matplotlib.animation import FuncAnimation\n",
    "from IPython.display import HTML\n",
    "\n",
    "# from skin_models import create_hemangioma_model\n",
    "from skin_models import create_hemangioma_model\n",
    "from xopto.mcml import mc\n",
    "from xopto.cl import clinfo"
   ]
  },
  {
   "cell_type": "markdown",
   "id": "962cef6a",
   "metadata": {},
   "source": [
    "# --- 1. Model and Simulation Setup ---"
   ]
  },
  {
   "cell_type": "code",
   "execution_count": null,
   "id": "6f6c6f92-0f3f-42b4-99cf-6b53dd25e69a",
   "metadata": {},
   "outputs": [],
   "source": [
    "# # Select the first available OpenCL device (CPU in this case)\n",
    "# try:\n",
    "#     device = clinfo.gpus()[0] # pyxopto often labels CPUs as GPUs\n",
    "# except IndexError:\n",
    "#     print(\"Error: No OpenCL device found. Please check your installation.\")\n",
    "#     # Exit or handle error\n",
    "\n",
    "# print(f\"Using OpenCL device: {device.name}\")\n",
    "# print(type(device))"
   ]
  },
  {
   "cell_type": "code",
   "execution_count": 3,
   "id": "0496e82a",
   "metadata": {},
   "outputs": [
    {
     "name": "stdout",
     "output_type": "stream",
     "text": [
      "Using OpenCL device: cpu-haswell-13th Gen Intel(R) Core(TM) i9-13900H\n",
      "<class 'pyopencl._cl.Device'>\n"
     ]
    }
   ],
   "source": [
    "# Select the first available OpenCL CPU device\n",
    "try:\n",
    "    device = clinfo.cpus()[0]\n",
    "except IndexError:\n",
    "    print(\"Error: No OpenCL CPU device found. Please check your installation.\")\n",
    "    # Optionally, fallback to GPU\n",
    "    try:\n",
    "        device = clinfo.gpus()[0]\n",
    "        print(\"Falling back to GPU device.\")\n",
    "    except IndexError:\n",
    "        raise RuntimeError(\"No OpenCL devices found at all.\")\n",
    "\n",
    "print(f\"Using OpenCL device: {device.name}\")\n",
    "print(type(device))"
   ]
  },
  {
   "cell_type": "code",
   "execution_count": 4,
   "id": "b1f44a96",
   "metadata": {},
   "outputs": [
    {
     "ename": "TypeError",
     "evalue": "__init__(): incompatible function arguments. The following argument types are supported:\n    1. __init__(self, context: pyopencl._cl.Context, device: pyopencl._cl.Device | None = None, properties: object = 0) -> None\n\nInvoked with types: pyopencl._cl.CommandQueue, pyopencl._cl.Context, pyopencl._cl.Device, kwargs = { properties: NoneType }",
     "output_type": "error",
     "traceback": [
      "\u001b[0;31m---------------------------------------------------------------------------\u001b[0m",
      "\u001b[0;31mTypeError\u001b[0m                                 Traceback (most recent call last)",
      "Cell \u001b[0;32mIn[4], line 16\u001b[0m\n\u001b[1;32m     13\u001b[0m trace_detector \u001b[38;5;241m=\u001b[39m mc\u001b[38;5;241m.\u001b[39mmctrace\u001b[38;5;241m.\u001b[39mTrace()\n\u001b[1;32m     15\u001b[0m \u001b[38;5;66;03m# Create the Monte Carlo simulator object\u001b[39;00m\n\u001b[0;32m---> 16\u001b[0m mc_obj \u001b[38;5;241m=\u001b[39m \u001b[43mmc\u001b[49m\u001b[38;5;241;43m.\u001b[39;49m\u001b[43mMc\u001b[49m\u001b[43m(\u001b[49m\u001b[43mlayers\u001b[49m\u001b[43m,\u001b[49m\u001b[43m \u001b[49m\u001b[43msource\u001b[49m\u001b[43m,\u001b[49m\u001b[43m \u001b[49m\u001b[43mtrace\u001b[49m\u001b[38;5;241;43m=\u001b[39;49m\u001b[43mtrace_detector\u001b[49m\u001b[43m,\u001b[49m\u001b[43m \u001b[49m\u001b[43mcl_devices\u001b[49m\u001b[38;5;241;43m=\u001b[39;49m\u001b[43mdevice\u001b[49m\u001b[43m)\u001b[49m\n",
      "File \u001b[0;32m~/Projects/Skoltech/Biophotonics/light-in-skin-animation/pyxopto/xopto/mcml/mc.py:323\u001b[0m, in \u001b[0;36mMc.__init__\u001b[0;34m(self, layers, source, detectors, trace, fluence, surface, types, options, rnginit, cl_devices, cl_build_options, cl_profiling)\u001b[0m\n\u001b[1;32m     89\u001b[0m \u001b[38;5;28;01mdef\u001b[39;00m\u001b[38;5;250m \u001b[39m\u001b[38;5;21m__init__\u001b[39m(\u001b[38;5;28mself\u001b[39m, layers: mclayer\u001b[38;5;241m.\u001b[39mLayers \u001b[38;5;129;01mor\u001b[39;00m List[mclayer\u001b[38;5;241m.\u001b[39mLayer],\n\u001b[1;32m     90\u001b[0m              source: mcsource\u001b[38;5;241m.\u001b[39mSource,\n\u001b[1;32m     91\u001b[0m              detectors: mcdetector\u001b[38;5;241m.\u001b[39mDetectors \u001b[38;5;241m=\u001b[39m \u001b[38;5;28;01mNone\u001b[39;00m,\n\u001b[0;32m   (...)\u001b[0m\n\u001b[1;32m    100\u001b[0m              cl_build_options: List[\u001b[38;5;28mstr\u001b[39m \u001b[38;5;129;01mor\u001b[39;00m cloptions\u001b[38;5;241m.\u001b[39mClBuildOption] \u001b[38;5;241m=\u001b[39m \u001b[38;5;28;01mNone\u001b[39;00m,\n\u001b[1;32m    101\u001b[0m              cl_profiling : \u001b[38;5;28mbool\u001b[39m \u001b[38;5;241m=\u001b[39m \u001b[38;5;28;01mFalse\u001b[39;00m):\n\u001b[1;32m    102\u001b[0m \u001b[38;5;250m    \u001b[39m\u001b[38;5;124;03m'''\u001b[39;00m\n\u001b[1;32m    103\u001b[0m \u001b[38;5;124;03m    Multilayer Monte Carlo light propagation simulator object constructor.\u001b[39;00m\n\u001b[1;32m    104\u001b[0m \u001b[38;5;124;03m    The object uses existing OpenCL kernel code in the mcml.h and mcml.c\u001b[39;00m\n\u001b[0;32m   (...)\u001b[0m\n\u001b[1;32m    321\u001b[0m \u001b[38;5;124;03m    >>> trace_data, _, _ = mc.run(100)\u001b[39;00m\n\u001b[1;32m    322\u001b[0m \u001b[38;5;124;03m    '''\u001b[39;00m\n\u001b[0;32m--> 323\u001b[0m     \u001b[38;5;28;43msuper\u001b[39;49m\u001b[43m(\u001b[49m\u001b[43m)\u001b[49m\u001b[38;5;241;43m.\u001b[39;49m\u001b[38;5;21;43m__init__\u001b[39;49m\u001b[43m(\u001b[49m\u001b[43mtypes\u001b[49m\u001b[38;5;241;43m=\u001b[39;49m\u001b[43mtypes\u001b[49m\u001b[43m,\u001b[49m\u001b[43m \u001b[49m\u001b[43moptions\u001b[49m\u001b[38;5;241;43m=\u001b[39;49m\u001b[43moptions\u001b[49m\u001b[43m,\u001b[49m\u001b[43m \u001b[49m\u001b[43mcl_devices\u001b[49m\u001b[38;5;241;43m=\u001b[39;49m\u001b[43mcl_devices\u001b[49m\u001b[43m,\u001b[49m\n\u001b[1;32m    324\u001b[0m \u001b[43m                     \u001b[49m\u001b[43mcl_build_options\u001b[49m\u001b[38;5;241;43m=\u001b[39;49m\u001b[43mcl_build_options\u001b[49m\u001b[43m,\u001b[49m\u001b[43m \u001b[49m\u001b[43mrnginit\u001b[49m\u001b[38;5;241;43m=\u001b[39;49m\u001b[43mrnginit\u001b[49m\u001b[43m,\u001b[49m\n\u001b[1;32m    325\u001b[0m \u001b[43m                     \u001b[49m\u001b[43mcl_profiling\u001b[49m\u001b[38;5;241;43m=\u001b[39;49m\u001b[43mcl_profiling\u001b[49m\u001b[43m)\u001b[49m\n\u001b[1;32m    326\u001b[0m     \u001b[38;5;66;03m# Initialization of members for later use.\u001b[39;00m\n\u001b[1;32m    327\u001b[0m     \u001b[38;5;28mself\u001b[39m\u001b[38;5;241m.\u001b[39m_cl_exec \u001b[38;5;241m=\u001b[39m \u001b[38;5;28mself\u001b[39m\u001b[38;5;241m.\u001b[39m_cl_src \u001b[38;5;241m=\u001b[39m \u001b[38;5;28mself\u001b[39m\u001b[38;5;241m.\u001b[39m_cl_src_options \u001b[38;5;241m=\u001b[39m \u001b[38;5;28;01mNone\u001b[39;00m\n",
      "File \u001b[0;32m~/Projects/Skoltech/Biophotonics/light-in-skin-animation/pyxopto/xopto/mcbase/mcworker.py:1323\u001b[0m, in \u001b[0;36mClWorkerRngMixin.__init__\u001b[0;34m(self, *args, **kwargs)\u001b[0m\n\u001b[1;32m   1305\u001b[0m \u001b[38;5;28;01mdef\u001b[39;00m\u001b[38;5;250m \u001b[39m\u001b[38;5;21m__init__\u001b[39m(\u001b[38;5;28mself\u001b[39m, \u001b[38;5;241m*\u001b[39margs, \u001b[38;5;241m*\u001b[39m\u001b[38;5;241m*\u001b[39mkwargs):\n\u001b[1;32m   1306\u001b[0m \u001b[38;5;250m    \u001b[39m\u001b[38;5;124;03m\"\"\"\u001b[39;00m\n\u001b[1;32m   1307\u001b[0m \u001b[38;5;124;03m    Random number generator mixin for an OpenCL worker. Use the\u001b[39;00m\n\u001b[1;32m   1308\u001b[0m \u001b[38;5;124;03m    :py:attr:`rng` to access the random number generator and\u001b[39;00m\n\u001b[0;32m   (...)\u001b[0m\n\u001b[1;32m   1321\u001b[0m \u001b[38;5;124;03m        generator into a known initial state.\u001b[39;00m\n\u001b[1;32m   1322\u001b[0m \u001b[38;5;124;03m    \"\"\"\u001b[39;00m\n\u001b[0;32m-> 1323\u001b[0m     \u001b[38;5;28;43msuper\u001b[39;49m\u001b[43m(\u001b[49m\u001b[43m)\u001b[49m\u001b[38;5;241;43m.\u001b[39;49m\u001b[38;5;21;43m__init__\u001b[39;49m\u001b[43m(\u001b[49m\u001b[38;5;241;43m*\u001b[39;49m\u001b[43margs\u001b[49m\u001b[43m,\u001b[49m\u001b[43m \u001b[49m\u001b[38;5;241;43m*\u001b[39;49m\u001b[38;5;241;43m*\u001b[39;49m\u001b[43mkwargs\u001b[49m\u001b[43m)\u001b[49m\n\u001b[1;32m   1325\u001b[0m     rnginit \u001b[38;5;241m=\u001b[39m kwargs\u001b[38;5;241m.\u001b[39mget(\u001b[38;5;124m\"\u001b[39m\u001b[38;5;124mrnginit\u001b[39m\u001b[38;5;124m\"\u001b[39m)\n\u001b[1;32m   1326\u001b[0m     \u001b[38;5;66;03m# Initialization of the Monte Carlo random number generator.\u001b[39;00m\n",
      "File \u001b[0;32m~/Projects/Skoltech/Biophotonics/light-in-skin-animation/pyxopto/xopto/mcbase/mcworker.py:216\u001b[0m, in \u001b[0;36mClWorker.__init__\u001b[0;34m(self, types, cl_devices, cl_build_options, cl_profiling, **kwargs)\u001b[0m\n\u001b[1;32m    205\u001b[0m \u001b[38;5;66;03m# The OpenCL queue used by the worker.\u001b[39;00m\n\u001b[1;32m    206\u001b[0m \u001b[38;5;66;03m# if self._cl_queue is None:\u001b[39;00m\n\u001b[1;32m    207\u001b[0m \u001b[38;5;66;03m#     self._cl_queue = cl.CommandQueue(\u001b[39;00m\n\u001b[0;32m   (...)\u001b[0m\n\u001b[1;32m    213\u001b[0m \u001b[38;5;66;03m#         properties=cl_cq_properties,\u001b[39;00m\n\u001b[1;32m    214\u001b[0m \u001b[38;5;66;03m#     )\u001b[39;00m\n\u001b[1;32m    215\u001b[0m \u001b[38;5;28;01mif\u001b[39;00m \u001b[38;5;28mself\u001b[39m\u001b[38;5;241m.\u001b[39m_cl_queue \u001b[38;5;129;01mis\u001b[39;00m \u001b[38;5;28;01mNone\u001b[39;00m:\n\u001b[0;32m--> 216\u001b[0m     \u001b[38;5;28mself\u001b[39m\u001b[38;5;241m.\u001b[39m_cl_queue \u001b[38;5;241m=\u001b[39m \u001b[43mcl\u001b[49m\u001b[38;5;241;43m.\u001b[39;49m\u001b[43mCommandQueue\u001b[49m\u001b[43m(\u001b[49m\n\u001b[1;32m    217\u001b[0m \u001b[43m        \u001b[49m\u001b[38;5;28;43mself\u001b[39;49m\u001b[38;5;241;43m.\u001b[39;49m\u001b[43m_cl_context\u001b[49m\u001b[43m,\u001b[49m\u001b[43m \u001b[49m\u001b[38;5;28;43mself\u001b[39;49m\u001b[38;5;241;43m.\u001b[39;49m\u001b[43m_cl_devices\u001b[49m\u001b[43m[\u001b[49m\u001b[38;5;241;43m0\u001b[39;49m\u001b[43m]\u001b[49m\u001b[43m,\u001b[49m\u001b[43m \u001b[49m\u001b[43mproperties\u001b[49m\u001b[38;5;241;43m=\u001b[39;49m\u001b[43mcl_cq_properties\u001b[49m\n\u001b[1;32m    218\u001b[0m \u001b[43m    \u001b[49m\u001b[43m)\u001b[49m\n\u001b[1;32m    219\u001b[0m \u001b[38;5;66;03m# The latest executable build with this the worker.\u001b[39;00m\n\u001b[1;32m    220\u001b[0m \u001b[38;5;28mself\u001b[39m\u001b[38;5;241m.\u001b[39m_cl_exec \u001b[38;5;241m=\u001b[39m \u001b[38;5;28;01mNone\u001b[39;00m\n",
      "\u001b[0;31mTypeError\u001b[0m: __init__(): incompatible function arguments. The following argument types are supported:\n    1. __init__(self, context: pyopencl._cl.Context, device: pyopencl._cl.Device | None = None, properties: object = 0) -> None\n\nInvoked with types: pyopencl._cl.CommandQueue, pyopencl._cl.Context, pyopencl._cl.Device, kwargs = { properties: NoneType }"
     ]
    }
   ],
   "source": [
    "# Define simulation parameters\n",
    "N_PHOTONS = 20  # Small number for a clear animation\n",
    "WAVELENGTH = 660 # Red light, for deeper penetration\n",
    "\n",
    "# Create the 7-layer hemangioma model\n",
    "layers = create_hemangioma_model(WAVELENGTH)\n",
    "\n",
    "# Define a simple pencil beam source\n",
    "# source = mc.mcsource.Pencil(origin=np.array(), direction=np.array())\n",
    "source = mc.mcsource.line.Line(position=np.array([0, 0, 0]), direction=np.array([0, 0, 1]))\n",
    "\n",
    "# Configure the Trace detector to capture all photon paths\n",
    "trace_detector = mc.mctrace.Trace()\n",
    "\n",
    "# Create the Monte Carlo simulator object\n",
    "mc_obj = mc.Mc(layers, source, trace=trace_detector, cl_devices=device)"
   ]
  },
  {
   "cell_type": "code",
   "execution_count": null,
   "id": "63993243",
   "metadata": {},
   "outputs": [],
   "source": []
  }
 ],
 "metadata": {
  "kernelspec": {
   "display_name": "light-in-skin-pyxopto",
   "language": "python",
   "name": "python3"
  },
  "language_info": {
   "codemirror_mode": {
    "name": "ipython",
    "version": 3
   },
   "file_extension": ".py",
   "mimetype": "text/x-python",
   "name": "python",
   "nbconvert_exporter": "python",
   "pygments_lexer": "ipython3",
   "version": "3.10.0"
  }
 },
 "nbformat": 4,
 "nbformat_minor": 5
}
