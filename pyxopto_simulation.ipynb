{
 "cells": [
  {
   "cell_type": "code",
   "execution_count": 1,
   "id": "d03a5abf-eae9-41a2-845e-076a6ef89bdf",
   "metadata": {},
   "outputs": [
    {
     "name": "stdout",
     "output_type": "stream",
     "text": [
      "Successfully imported xopto version: 0.2.3\n",
      "\n",
      "--- Verifying PyOpenCL Installation ---\n",
      "Found 2 OpenCL platform(s).\n",
      "\n",
      "--- Platform 0: Intel(R) OpenCL Graphics ---\n",
      "  Found 1 device(s).\n",
      "    Device 0: Intel(R) Iris(R) Xe Graphics\n",
      "      Type: ALL | GPU\n",
      "      Max Compute Units: 96\n",
      "\n",
      "--- Platform 1: Portable Computing Language ---\n",
      "  Found 1 device(s).\n",
      "    Device 0: cpu-haswell-13th Gen Intel(R) Core(TM) i9-13900H\n",
      "      Type: ALL | CPU\n",
      "      Max Compute Units: 20\n"
     ]
    }
   ],
   "source": [
    "import pyopencl as cl\n",
    "import xopto\n",
    "\n",
    "print(f\"Successfully imported xopto version: {xopto.__version__}\")\n",
    "\n",
    "print(\"\\n--- Verifying PyOpenCL Installation ---\")\n",
    "platforms = cl.get_platforms()\n",
    "if not platforms:\n",
    "    print(\"!!! ERROR: No OpenCL platforms found. Check Intel OpenCL runtime installation.\")\n",
    "else:\n",
    "    print(f\"Found {len(platforms)} OpenCL platform(s).\")\n",
    "    for i, platform in enumerate(platforms):\n",
    "        print(f\"\\n--- Platform {i}: {platform.name} ---\")\n",
    "        devices = platform.get_devices()\n",
    "        if not devices:\n",
    "            print(\"  No devices found on this platform.\")\n",
    "        else:\n",
    "            print(f\"  Found {len(devices)} device(s).\")\n",
    "            for j, device in enumerate(devices):\n",
    "                print(f\"    Device {j}: {device.name}\")\n",
    "                print(f\"      Type: {cl.device_type.to_string(device.type)}\")\n",
    "                print(f\"      Max Compute Units: {device.max_compute_units}\")"
   ]
  },
  {
   "cell_type": "code",
   "execution_count": 2,
   "id": "b59d3090-62ab-4dc1-9f5e-b18832373559",
   "metadata": {},
   "outputs": [],
   "source": [
    "import numpy as np\n",
    "from matplotlib import pyplot as pp\n",
    "from matplotlib.animation import FuncAnimation\n",
    "from IPython.display import HTML\n",
    "\n",
    "# from skin_models import create_hemangioma_model\n",
    "from skin_models import create_hemangioma_model\n",
    "from xopto.mcml import mc\n",
    "from xopto.cl import clinfo"
   ]
  },
  {
   "cell_type": "markdown",
   "id": "962cef6a",
   "metadata": {},
   "source": [
    "# --- 1. Model and Simulation Setup ---"
   ]
  },
  {
   "cell_type": "code",
   "execution_count": 3,
   "id": "6f6c6f92-0f3f-42b4-99cf-6b53dd25e69a",
   "metadata": {},
   "outputs": [],
   "source": [
    "# # Select the first available OpenCL device (CPU in this case)\n",
    "# try:\n",
    "#     device = clinfo.gpus()[0] # pyxopto often labels CPUs as GPUs\n",
    "# except IndexError:\n",
    "#     print(\"Error: No OpenCL device found. Please check your installation.\")\n",
    "#     # Exit or handle error\n",
    "\n",
    "# print(f\"Using OpenCL device: {device.name}\")\n",
    "# print(type(device))"
   ]
  },
  {
   "cell_type": "code",
   "execution_count": 4,
   "id": "0496e82a",
   "metadata": {},
   "outputs": [
    {
     "name": "stdout",
     "output_type": "stream",
     "text": [
      "Using OpenCL device: cpu-haswell-13th Gen Intel(R) Core(TM) i9-13900H\n",
      "<class 'pyopencl._cl.Device'>\n"
     ]
    }
   ],
   "source": [
    "# Select the first available OpenCL CPU device\n",
    "try:\n",
    "    device = clinfo.cpus()[0]\n",
    "except IndexError:\n",
    "    print(\"Error: No OpenCL CPU device found. Please check your installation.\")\n",
    "    # Optionally, fallback to GPU\n",
    "    try:\n",
    "        device = clinfo.gpus()[0]\n",
    "        print(\"Falling back to GPU device.\")\n",
    "    except IndexError:\n",
    "        raise RuntimeError(\"No OpenCL devices found at all.\")\n",
    "\n",
    "print(f\"Using OpenCL device: {device.name}\")\n",
    "print(type(device))"
   ]
  },
  {
   "cell_type": "code",
   "execution_count": 5,
   "id": "b1f44a96",
   "metadata": {},
   "outputs": [],
   "source": [
    "# Define simulation parameters\n",
    "N_PHOTONS = 20  # Small number for a clear animation\n",
    "WAVELENGTH = 660 # Red light, for deeper penetration\n",
    "\n",
    "# Create the 7-layer hemangioma model\n",
    "layers = create_hemangioma_model(WAVELENGTH)\n",
    "\n",
    "# Define a simple pencil beam source\n",
    "# source = mc.mcsource.Pencil(origin=np.array(), direction=np.array())\n",
    "source = mc.mcsource.line.Line(position=np.array([0, 0, 0]), direction=np.array([0, 0, 1]))\n",
    "\n",
    "# Configure the Trace detector to capture all photon paths\n",
    "trace_detector = mc.mctrace.Trace()\n",
    "\n",
    "# Create the Monte Carlo simulator object\n",
    "mc_obj = mc.Mc(layers, source, trace=trace_detector, cl_devices=device)"
   ]
  },
  {
   "cell_type": "markdown",
   "id": "21ce72cf",
   "metadata": {},
   "source": [
    "# --- 2. Run the Simulation ---"
   ]
  },
  {
   "cell_type": "code",
   "execution_count": 6,
   "id": "63993243",
   "metadata": {},
   "outputs": [
    {
     "name": "stdout",
     "output_type": "stream",
     "text": [
      "Running simulation with 20 photons...\n"
     ]
    },
    {
     "ename": "RuntimeError",
     "evalue": "clBuildProgram failed: BUILD_PROGRAM_FAILURE - clBuildProgram failed: BUILD_PROGRAM_FAILURE - clBuildProgram failed: BUILD_PROGRAM_FAILURE\n\nBuild on <pyopencl.Device 'cpu-haswell-13th Gen Intel(R) Core(TM) i9-13900H' on 'Portable Computing Language' at 0x562d1b45ae00>:\n\nError(s) while linking: \nCannot find symbol mcsim_pf_sample_angles in kernel library\nDevice cpu-haswell-13th Gen Intel(R) Core(TM) i9-13900H failed to build the program\n\n(options: -I /home/mikhail/miniforge3/envs/light-in-skin-pyxopto/lib/python3.10/site-packages/pyopencl/cl)",
     "output_type": "error",
     "traceback": [
      "\u001b[0;31m---------------------------------------------------------------------------\u001b[0m",
      "\u001b[0;31mRuntimeError\u001b[0m                              Traceback (most recent call last)",
      "Cell \u001b[0;32mIn[6], line 2\u001b[0m\n\u001b[1;32m      1\u001b[0m \u001b[38;5;28mprint\u001b[39m(\u001b[38;5;124mf\u001b[39m\u001b[38;5;124m\"\u001b[39m\u001b[38;5;124mRunning simulation with \u001b[39m\u001b[38;5;132;01m{\u001b[39;00mN_PHOTONS\u001b[38;5;132;01m}\u001b[39;00m\u001b[38;5;124m photons...\u001b[39m\u001b[38;5;124m\"\u001b[39m)\n\u001b[0;32m----> 2\u001b[0m trace_res, _, _ \u001b[38;5;241m=\u001b[39m \u001b[43mmc_obj\u001b[49m\u001b[38;5;241;43m.\u001b[39;49m\u001b[43mrun\u001b[49m\u001b[43m(\u001b[49m\u001b[43mN_PHOTONS\u001b[49m\u001b[43m)\u001b[49m\n\u001b[1;32m      3\u001b[0m \u001b[38;5;28mprint\u001b[39m(\u001b[38;5;124m\"\u001b[39m\u001b[38;5;124mSimulation complete.\u001b[39m\u001b[38;5;124m\"\u001b[39m)\n",
      "File \u001b[0;32m~/Projects/Skoltech/Biophotonics/light-in-skin-animation/pyxopto/xopto/mcml/mc.py:825\u001b[0m, in \u001b[0;36mMc.run\u001b[0;34m(self, nphotons, out, wgsize, maxthreads, copyseeds, exportsrc, verbose)\u001b[0m\n\u001b[1;32m    821\u001b[0m t0 \u001b[38;5;241m=\u001b[39m time\u001b[38;5;241m.\u001b[39mperf_counter()\n\u001b[1;32m    823\u001b[0m \u001b[38;5;28;01mif\u001b[39;00m \u001b[38;5;28mself\u001b[39m\u001b[38;5;241m.\u001b[39m_cl_exec \u001b[38;5;129;01mis\u001b[39;00m \u001b[38;5;28;01mNone\u001b[39;00m:\n\u001b[1;32m    824\u001b[0m     \u001b[38;5;66;03m# Rebuild from source if required - first call of the run method.\u001b[39;00m\n\u001b[0;32m--> 825\u001b[0m     \u001b[38;5;28;43mself\u001b[39;49m\u001b[38;5;241;43m.\u001b[39;49m\u001b[43m_build_exec\u001b[49m\u001b[43m(\u001b[49m\u001b[43mexportsrc\u001b[49m\u001b[38;5;241;43m=\u001b[39;49m\u001b[43mexportsrc\u001b[49m\u001b[43m,\u001b[49m\u001b[43m \u001b[49m\u001b[43mverbose\u001b[49m\u001b[38;5;241;43m=\u001b[39;49m\u001b[43mverbose\u001b[49m\u001b[43m)\u001b[49m\n\u001b[1;32m    827\u001b[0m     \u001b[38;5;66;03m# fetch the data type sizes on the OpenCL device and validate /\u001b[39;00m\n\u001b[1;32m    828\u001b[0m     \u001b[38;5;66;03m# compare to the size of the data types on the host\u001b[39;00m\n\u001b[1;32m    829\u001b[0m     \u001b[38;5;28mself\u001b[39m\u001b[38;5;241m.\u001b[39m_fetch_typesizes(validate\u001b[38;5;241m=\u001b[39m\u001b[38;5;28;01mTrue\u001b[39;00m)\n",
      "File \u001b[0;32m~/Projects/Skoltech/Biophotonics/light-in-skin-animation/pyxopto/xopto/mcml/mc.py:665\u001b[0m, in \u001b[0;36mMc._build_exec\u001b[0;34m(self, exportsrc, verbose)\u001b[0m\n\u001b[1;32m    663\u001b[0m     \u001b[38;5;28mself\u001b[39m\u001b[38;5;241m.\u001b[39mexport_src(filename)\n\u001b[1;32m    664\u001b[0m \u001b[38;5;66;03m# Compile the OpenCL source code.\u001b[39;00m\n\u001b[0;32m--> 665\u001b[0m \u001b[38;5;28mself\u001b[39m\u001b[38;5;241m.\u001b[39m_cl_exec \u001b[38;5;241m=\u001b[39m \u001b[38;5;28;43mself\u001b[39;49m\u001b[38;5;241;43m.\u001b[39;49m\u001b[43mcl_build\u001b[49m\u001b[43m(\u001b[49m\u001b[38;5;28;43mself\u001b[39;49m\u001b[38;5;241;43m.\u001b[39;49m\u001b[43m_cl_src\u001b[49m\u001b[43m,\u001b[49m\u001b[43m \u001b[49m\u001b[43mverbose\u001b[49m\u001b[43m)\u001b[49m\n\u001b[1;32m    666\u001b[0m \u001b[38;5;66;03m# options=['-cl-opt-disable', '-Werror']\u001b[39;00m\n\u001b[1;32m    667\u001b[0m buildtime \u001b[38;5;241m=\u001b[39m time\u001b[38;5;241m.\u001b[39mperf_counter() \u001b[38;5;241m-\u001b[39m tb\n",
      "File \u001b[0;32m~/Projects/Skoltech/Biophotonics/light-in-skin-animation/pyxopto/xopto/mcbase/mcworker.py:294\u001b[0m, in \u001b[0;36mClWorker.cl_build\u001b[0;34m(self, cl_src, verbose)\u001b[0m\n\u001b[1;32m    291\u001b[0m     \u001b[38;5;28mprint\u001b[39m(\u001b[38;5;124m\"\u001b[39m\u001b[38;5;124mOpenCL build options:\u001b[39m\u001b[38;5;124m\"\u001b[39m, \u001b[38;5;28mself\u001b[39m\u001b[38;5;241m.\u001b[39m_cl_build_options)\n\u001b[1;32m    293\u001b[0m tb \u001b[38;5;241m=\u001b[39m time\u001b[38;5;241m.\u001b[39mperf_counter()\n\u001b[0;32m--> 294\u001b[0m cl_exec \u001b[38;5;241m=\u001b[39m \u001b[43mcl\u001b[49m\u001b[38;5;241;43m.\u001b[39;49m\u001b[43mProgram\u001b[49m\u001b[43m(\u001b[49m\u001b[38;5;28;43mself\u001b[39;49m\u001b[38;5;241;43m.\u001b[39;49m\u001b[43m_cl_context\u001b[49m\u001b[43m,\u001b[49m\u001b[43m \u001b[49m\u001b[43mcl_src\u001b[49m\u001b[43m)\u001b[49m\u001b[38;5;241;43m.\u001b[39;49m\u001b[43mbuild\u001b[49m\u001b[43m(\u001b[49m\n\u001b[1;32m    295\u001b[0m \u001b[43m    \u001b[49m\u001b[43moptions\u001b[49m\u001b[38;5;241;43m=\u001b[39;49m\u001b[38;5;28;43mself\u001b[39;49m\u001b[38;5;241;43m.\u001b[39;49m\u001b[43m_cl_build_options\u001b[49m\n\u001b[1;32m    296\u001b[0m \u001b[43m\u001b[49m\u001b[43m)\u001b[49m\n\u001b[1;32m    297\u001b[0m \u001b[38;5;66;03m# options=['-cl-opt-disable', '-Werror']\u001b[39;00m\n\u001b[1;32m    298\u001b[0m buildtime \u001b[38;5;241m=\u001b[39m time\u001b[38;5;241m.\u001b[39mperf_counter() \u001b[38;5;241m-\u001b[39m tb\n",
      "File \u001b[0;32m~/miniforge3/envs/light-in-skin-pyxopto/lib/python3.10/site-packages/pyopencl/__init__.py:569\u001b[0m, in \u001b[0;36mProgram.build\u001b[0;34m(self, options, devices, cache_dir)\u001b[0m\n\u001b[1;32m    566\u001b[0m     \u001b[38;5;28;01mif\u001b[39;00m build_descr \u001b[38;5;129;01mis\u001b[39;00m \u001b[38;5;28;01mNone\u001b[39;00m:\n\u001b[1;32m    567\u001b[0m         build_descr \u001b[38;5;241m=\u001b[39m \u001b[38;5;124m\"\u001b[39m\u001b[38;5;124muncached source build\u001b[39m\u001b[38;5;124m\"\u001b[39m\n\u001b[0;32m--> 569\u001b[0m     \u001b[38;5;28;43mself\u001b[39;49m\u001b[38;5;241;43m.\u001b[39;49m\u001b[43m_build_and_catch_errors\u001b[49m\u001b[43m(\u001b[49m\n\u001b[1;32m    570\u001b[0m \u001b[43m            \u001b[49m\u001b[38;5;28;43;01mlambda\u001b[39;49;00m\u001b[43m:\u001b[49m\u001b[43m \u001b[49m\u001b[38;5;28;43mself\u001b[39;49m\u001b[38;5;241;43m.\u001b[39;49m\u001b[43m_prg\u001b[49m\u001b[38;5;241;43m.\u001b[39;49m\u001b[43mbuild\u001b[49m\u001b[43m(\u001b[49m\u001b[43moptions_bytes\u001b[49m\u001b[43m,\u001b[49m\u001b[43m \u001b[49m\u001b[43mdevices\u001b[49m\u001b[43m)\u001b[49m\u001b[43m,\u001b[49m\n\u001b[1;32m    571\u001b[0m \u001b[43m            \u001b[49m\u001b[43moptions_bytes\u001b[49m\u001b[38;5;241;43m=\u001b[39;49m\u001b[43moptions_bytes\u001b[49m\u001b[43m)\u001b[49m\n\u001b[1;32m    573\u001b[0m \u001b[38;5;28;01melse\u001b[39;00m:\n\u001b[1;32m    574\u001b[0m     \u001b[38;5;66;03m# cached\u001b[39;00m\n\u001b[1;32m    576\u001b[0m     \u001b[38;5;28;01mfrom\u001b[39;00m\u001b[38;5;250m \u001b[39m\u001b[38;5;21;01mpyopencl\u001b[39;00m\u001b[38;5;21;01m.\u001b[39;00m\u001b[38;5;21;01mcache\u001b[39;00m\u001b[38;5;250m \u001b[39m\u001b[38;5;28;01mimport\u001b[39;00m create_built_program_from_source_cached\n",
      "File \u001b[0;32m~/miniforge3/envs/light-in-skin-pyxopto/lib/python3.10/site-packages/pyopencl/__init__.py:629\u001b[0m, in \u001b[0;36mProgram._build_and_catch_errors\u001b[0;34m(self, build_func, options_bytes, source)\u001b[0m\n\u001b[1;32m    621\u001b[0m     err \u001b[38;5;241m=\u001b[39m \u001b[38;5;167;01mRuntimeError\u001b[39;00m(\n\u001b[1;32m    622\u001b[0m             _cl\u001b[38;5;241m.\u001b[39m_ErrorRecord(\n\u001b[1;32m    623\u001b[0m                 msg\u001b[38;5;241m=\u001b[39mmsg,\n\u001b[1;32m    624\u001b[0m                 code\u001b[38;5;241m=\u001b[39mcode,\n\u001b[1;32m    625\u001b[0m                 routine\u001b[38;5;241m=\u001b[39mroutine))\n\u001b[1;32m    627\u001b[0m \u001b[38;5;66;03m# Python 3.2 outputs the whole list of currently active exceptions\u001b[39;00m\n\u001b[1;32m    628\u001b[0m \u001b[38;5;66;03m# This serves to remove one (redundant) level from that nesting.\u001b[39;00m\n\u001b[0;32m--> 629\u001b[0m \u001b[38;5;28;01mraise\u001b[39;00m err\n",
      "\u001b[0;31mRuntimeError\u001b[0m: clBuildProgram failed: BUILD_PROGRAM_FAILURE - clBuildProgram failed: BUILD_PROGRAM_FAILURE - clBuildProgram failed: BUILD_PROGRAM_FAILURE\n\nBuild on <pyopencl.Device 'cpu-haswell-13th Gen Intel(R) Core(TM) i9-13900H' on 'Portable Computing Language' at 0x562d1b45ae00>:\n\nError(s) while linking: \nCannot find symbol mcsim_pf_sample_angles in kernel library\nDevice cpu-haswell-13th Gen Intel(R) Core(TM) i9-13900H failed to build the program\n\n(options: -I /home/mikhail/miniforge3/envs/light-in-skin-pyxopto/lib/python3.10/site-packages/pyopencl/cl)"
     ]
    }
   ],
   "source": [
    "print(f\"Running simulation with {N_PHOTONS} photons...\")\n",
    "trace_res, _, _ = mc_obj.run(N_PHOTONS)\n",
    "print(\"Simulation complete.\")"
   ]
  },
  {
   "cell_type": "code",
   "execution_count": null,
   "id": "2c7d36e7",
   "metadata": {},
   "outputs": [],
   "source": []
  }
 ],
 "metadata": {
  "kernelspec": {
   "display_name": "light-in-skin-pyxopto",
   "language": "python",
   "name": "python3"
  },
  "language_info": {
   "codemirror_mode": {
    "name": "ipython",
    "version": 3
   },
   "file_extension": ".py",
   "mimetype": "text/x-python",
   "name": "python",
   "nbconvert_exporter": "python",
   "pygments_lexer": "ipython3",
   "version": "3.10.0"
  }
 },
 "nbformat": 4,
 "nbformat_minor": 5
}
