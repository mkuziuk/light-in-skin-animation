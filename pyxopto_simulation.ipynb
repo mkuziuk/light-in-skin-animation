{
 "cells": [
  {
   "cell_type": "code",
   "execution_count": 29,
   "id": "d03a5abf-eae9-41a2-845e-076a6ef89bdf",
   "metadata": {},
   "outputs": [
    {
     "name": "stdout",
     "output_type": "stream",
     "text": [
      "Successfully imported xopto version: 0.2.3\n",
      "\n",
      "--- Verifying PyOpenCL Installation ---\n",
      "Found 2 OpenCL platform(s).\n",
      "\n",
      "--- Platform 0: Intel(R) OpenCL Graphics ---\n",
      "  Found 1 device(s).\n",
      "    Device 0: Intel(R) Iris(R) Xe Graphics\n",
      "      Type: ALL | GPU\n",
      "      Max Compute Units: 96\n",
      "\n",
      "--- Platform 1: Portable Computing Language ---\n",
      "  Found 1 device(s).\n",
      "    Device 0: cpu-haswell-13th Gen Intel(R) Core(TM) i9-13900H\n",
      "      Type: ALL | CPU\n",
      "      Max Compute Units: 20\n"
     ]
    }
   ],
   "source": [
    "import pyopencl as cl\n",
    "import xopto\n",
    "\n",
    "print(f\"Successfully imported xopto version: {xopto.__version__}\")\n",
    "\n",
    "print(\"\\n--- Verifying PyOpenCL Installation ---\")\n",
    "platforms = cl.get_platforms()\n",
    "if not platforms:\n",
    "    print(\"!!! ERROR: No OpenCL platforms found. Check Intel OpenCL runtime installation.\")\n",
    "else:\n",
    "    print(f\"Found {len(platforms)} OpenCL platform(s).\")\n",
    "    for i, platform in enumerate(platforms):\n",
    "        print(f\"\\n--- Platform {i}: {platform.name} ---\")\n",
    "        devices = platform.get_devices()\n",
    "        if not devices:\n",
    "            print(\"  No devices found on this platform.\")\n",
    "        else:\n",
    "            print(f\"  Found {len(devices)} device(s).\")\n",
    "            for j, device in enumerate(devices):\n",
    "                print(f\"    Device {j}: {device.name}\")\n",
    "                print(f\"      Type: {cl.device_type.to_string(device.type)}\")\n",
    "                print(f\"      Max Compute Units: {device.max_compute_units}\")"
   ]
  },
  {
   "cell_type": "code",
   "execution_count": 30,
   "id": "b59d3090-62ab-4dc1-9f5e-b18832373559",
   "metadata": {},
   "outputs": [],
   "source": [
    "import numpy as np\n",
    "from matplotlib import pyplot as pp\n",
    "from matplotlib.animation import FuncAnimation\n",
    "from IPython.display import HTML\n",
    "\n",
    "# from skin_models import create_hemangioma_model\n",
    "from skin_models import create_hemangioma_model\n",
    "from xopto.mcml import mc\n",
    "from xopto.cl import clinfo\n",
    "from xopto.mcml.mcutil import fiber"
   ]
  },
  {
   "cell_type": "markdown",
   "id": "962cef6a",
   "metadata": {},
   "source": [
    "# --- 1. Model and Simulation Setup ---"
   ]
  },
  {
   "cell_type": "code",
   "execution_count": null,
   "id": "6f6c6f92-0f3f-42b4-99cf-6b53dd25e69a",
   "metadata": {},
   "outputs": [],
   "source": [
    "# # Select the first available OpenCL device (CPU in this case)\n",
    "# try:\n",
    "#     device = clinfo.gpus()[0] # pyxopto often labels CPUs as GPUs\n",
    "# except IndexError:\n",
    "#     print(\"Error: No OpenCL device found. Please check your installation.\")\n",
    "#     # Exit or handle error\n",
    "\n",
    "# print(f\"Using OpenCL device: {device.name}\")\n",
    "# print(type(device))"
   ]
  },
  {
   "cell_type": "code",
   "execution_count": 6,
   "id": "0496e82a",
   "metadata": {},
   "outputs": [
    {
     "name": "stdout",
     "output_type": "stream",
     "text": [
      "Using OpenCL device: cpu-haswell-13th Gen Intel(R) Core(TM) i9-13900H\n",
      "<class 'pyopencl._cl.Device'>\n"
     ]
    }
   ],
   "source": [
    "# Select the first available OpenCL CPU device\n",
    "try:\n",
    "    device = clinfo.cpus()[0]\n",
    "except IndexError:\n",
    "    print(\"Error: No OpenCL CPU device found. Please check your installation.\")\n",
    "    # Optionally, fallback to GPU\n",
    "    try:\n",
    "        device = clinfo.gpus()[0]\n",
    "        print(\"Falling back to GPU device.\")\n",
    "    except IndexError:\n",
    "        raise RuntimeError(\"No OpenCL devices found at all.\")\n",
    "\n",
    "print(f\"Using OpenCL device: {device.name}\")\n",
    "print(type(device))"
   ]
  },
  {
   "cell_type": "code",
   "execution_count": null,
   "id": "b1f44a96",
   "metadata": {},
   "outputs": [],
   "source": [
    "# Define simulation parameters\n",
    "N_PHOTONS = 20  # Small number for a clear animation\n",
    "WAVELENGTH = 660 # Red light, for deeper penetration\n",
    "\n",
    "# Create the 7-layer hemangioma model\n",
    "layers = create_hemangioma_model(WAVELENGTH)\n",
    "\n",
    "# Define a simple pencil beam source\n",
    "# source = mc.mcsource.Pencil(origin=np.array(), direction=np.array())\n",
    "source = mc.mcsource.line.Line(position=np.array([0, 0, 0]), direction=np.array([0, 0, 1]))\n",
    "\n",
    "# Configure the Trace detector to capture all photon paths\n",
    "detectors = mc.mcdetector.Detectors(\n",
    "    top=mc.mcdetector.Radial(\n",
    "        mc.mcdetector.Axis(0e-3, 5e-3, 1000)\n",
    "    ),\n",
    "    specular=mc.mcdetector.Total()\n",
    ")\n",
    "\n",
    "# Create the Monte Carlo simulator object\n",
    "mc_obj = mc.Mc(layers, source, detectors=detectors, cl_devices=device)"
   ]
  },
  {
   "cell_type": "markdown",
   "id": "21ce72cf",
   "metadata": {},
   "source": [
    "# --- 2. Run the Simulation ---"
   ]
  },
  {
   "cell_type": "code",
   "execution_count": 23,
   "id": "63993243",
   "metadata": {},
   "outputs": [
    {
     "name": "stdout",
     "output_type": "stream",
     "text": [
      "Running simulation with 20 photons...\n",
      "Simulation complete.\n"
     ]
    }
   ],
   "source": [
    "print(f\"Running simulation with {N_PHOTONS} photons...\")\n",
    "trace_res, _, detectors_res = mc_obj.run(N_PHOTONS)\n",
    "print(\"Simulation complete.\")"
   ]
  },
  {
   "cell_type": "markdown",
   "id": "f991c02f",
   "metadata": {},
   "source": [
    "# --- 3. The Animation ---"
   ]
  },
  {
   "cell_type": "code",
   "execution_count": null,
   "id": "53d7f515",
   "metadata": {},
   "outputs": [],
   "source": []
  }
 ],
 "metadata": {
  "kernelspec": {
   "display_name": "light-in-skin-pyxopto",
   "language": "python",
   "name": "python3"
  },
  "language_info": {
   "codemirror_mode": {
    "name": "ipython",
    "version": 3
   },
   "file_extension": ".py",
   "mimetype": "text/x-python",
   "name": "python",
   "nbconvert_exporter": "python",
   "pygments_lexer": "ipython3",
   "version": "3.10.0"
  }
 },
 "nbformat": 4,
 "nbformat_minor": 5
}
