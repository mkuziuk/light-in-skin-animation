{
 "cells": [
  {
   "cell_type": "code",
   "execution_count": 35,
   "id": "74fbda42",
   "metadata": {},
   "outputs": [],
   "source": [
    "import numpy as np\n",
    "import pandas as pd\n",
    "\n",
    "from xopto.mcml import mc\n",
    "from xopto.cl import clinfo\n",
    "from xopto.materials import skin\n",
    "from tqdm import trange"
   ]
  },
  {
   "cell_type": "code",
   "execution_count": 36,
   "id": "67ca39a4",
   "metadata": {},
   "outputs": [],
   "source": [
    "WL = np.arange(400, 801, 10)                     # 41 points, 400-800 nm\n",
    "N_PER_CLASS = 1500\n",
    "N_PHOTONS = 1e6"
   ]
  },
  {
   "cell_type": "code",
   "execution_count": 37,
   "id": "e082dff5",
   "metadata": {},
   "outputs": [],
   "source": [
    "RNG = np.random.default_rng()\n",
    "\n",
    "CUBE_NORMAL = [\n",
    "    dict(melanin=(0.001, 0.08),  water=(0.015, 0.025)),                   # layer 1\n",
    "    dict(water  =(0.55 , 0.75),  blood=(0.01 , 0.06), spo2 =(0.95, 0.99)),# layer 2\n",
    "    dict(water  =(0.03 , 0.07),  fat  =(0.25, 0.55), blood=(0.01, 0.05),\n",
    "            spo2   =(0.95 , 0.99))]                                          # layer 3\n",
    "\n",
    "CUBE_HEMANGIOMA = [\n",
    "    dict(melanin=(0.001, 0.08),  water=(0.015, 0.025)),\n",
    "    dict(water  =(0.55 , 0.75),  blood=(0.12 , 0.25), spo2 =(0.75, 0.85)),\n",
    "    dict(water  =(0.03 , 0.07),  fat  =(0.25, 0.55), blood=(0.01, 0.05),\n",
    "            spo2   =(0.95 , 0.99))]"
   ]
  },
  {
   "cell_type": "code",
   "execution_count": 38,
   "id": "4d5ffa6f",
   "metadata": {},
   "outputs": [],
   "source": [
    "def random_layer(layer_dict):\n",
    "    return {k: RNG.uniform(low, high) for k, (low, high) in layer_dict.items()}"
   ]
  },
  {
   "cell_type": "code",
   "execution_count": 39,
   "id": "f4d60e03",
   "metadata": {},
   "outputs": [],
   "source": [
    "cl_device = clinfo.gpu()\n",
    "\n",
    "# DEFINE SOURCE\n",
    "source = mc.mcsource.Line(\n",
    "    position=(0.0, 0.0, 0.0),\n",
    "    direction=(0.0, 0.0, 1.0)\n",
    ")\n",
    "\n",
    "# DEFINE A DETECTOR FOR INTEGRATING SPHERE\n",
    "sp_r = 0.5e-2  # integrating sphere opening in m\n",
    "detector_top = mc.mcdetector.Radial(\n",
    "    mc.mcdetector.RadialAxis(\n",
    "        start=0.0,\n",
    "        stop=2*sp_r,\n",
    "        n=2)\n",
    ")\n",
    "detectors = mc.mcdetector.Detectors(\n",
    "    top=detector_top\n",
    ")"
   ]
  },
  {
   "cell_type": "code",
   "execution_count": 40,
   "id": "dab814b7",
   "metadata": {},
   "outputs": [],
   "source": [
    "def make_sample(cube):\n",
    "    mdl = skin.Skin3()                          # three-layer object\n",
    "    # --- epidermis -----------------------------------------------------\n",
    "    l1 = random_layer(cube[0])\n",
    "    mdl[0].melanin = l1['melanin']\n",
    "    mdl[0].water   = l1['water']\n",
    "    # --- dermis --------------------------------------------------------\n",
    "    l2 = random_layer(cube[1])\n",
    "    mdl[1].water = l2['water']\n",
    "    mdl[1].blood = l2['blood']\n",
    "    mdl[1].spo2  = l2['spo2']\n",
    "    # --- sub-cutis -----------------------------------------------------\n",
    "    l3 = random_layer(cube[2])\n",
    "    mdl[2].water = l3['water']\n",
    "    mdl[2].fat   = l3['fat']\n",
    "    mdl[2].blood = l3['blood']\n",
    "    mdl[2].spo2  = l3['spo2']\n",
    "\n",
    "    reflectance_spectrum = np.zeros(len(WL), dtype=np.float64)\n",
    "    for i, wl in enumerate(WL):\n",
    "        wl_m = wl * 1e-9  # convert nm to m\n",
    "        layers = mdl.create_mc_layers(wl_m)\n",
    "        mc_obj = mc.Mc(layers, source, detectors, cl_devices=cl_device)\n",
    "        mc_obj.rmax = 50.0e-3\n",
    "\n",
    "        detector = mc_obj.run(N_PHOTONS, verbose=False)[-1]\n",
    "        reflectance_spectrum[i] = detector.top.reflectance[0] * np.pi * sp_r**2\n",
    "\n",
    "    return reflectance_spectrum"
   ]
  },
  {
   "cell_type": "code",
   "execution_count": 41,
   "id": "1512bd35",
   "metadata": {},
   "outputs": [
    {
     "name": "stderr",
     "output_type": "stream",
     "text": [
      "Simulating:   0%|          | 0/1500 [00:00<?, ?it/s]"
     ]
    },
    {
     "name": "stderr",
     "output_type": "stream",
     "text": [
      "/home/mikhail/Projects/Skoltech/Biophotonics/light-in-skin-animation/pyxopto/xopto/materials/absorption/base.py:137: UserWarning: Wavelength is out of valid range [100.0, 799.5] nm!\n",
      "  warnings.warn(\n",
      "Simulating: 100%|██████████| 1500/1500 [6:13:37<00:00, 14.95s/it]    "
     ]
    },
    {
     "name": "stdout",
     "output_type": "stream",
     "text": [
      "Saved skin3_synthetic_reflectance_2.csv  (shape: (3000, 42) )\n"
     ]
    },
    {
     "name": "stderr",
     "output_type": "stream",
     "text": [
      "\n"
     ]
    }
   ],
   "source": [
    "spectra  = []\n",
    "labels   = []\n",
    "\n",
    "for _ in trange(N_PER_CLASS, desc=\"Simulating\"):\n",
    "    spectra.append(make_sample(CUBE_NORMAL));     \n",
    "    labels.append(0)\n",
    "    spectra.append(make_sample(CUBE_HEMANGIOMA)); \n",
    "    labels.append(1)\n",
    "\n",
    "df = pd.DataFrame(np.vstack(spectra),\n",
    "                    columns=[f\"R_{l}nm\" for l in WL])\n",
    "df['hemangioma'] = labels\n",
    "\n",
    "df.to_csv(\"skin3_synthetic_reflectance_2.csv\", index=False)\n",
    "print(\"Saved skin3_synthetic_reflectance_2.csv  (shape:\", df.shape, \")\")"
   ]
  },
  {
   "cell_type": "code",
   "execution_count": null,
   "id": "964a7d7d",
   "metadata": {},
   "outputs": [],
   "source": []
  }
 ],
 "metadata": {
  "kernelspec": {
   "display_name": "light-in-skin-pyxopto",
   "language": "python",
   "name": "python3"
  },
  "language_info": {
   "codemirror_mode": {
    "name": "ipython",
    "version": 3
   },
   "file_extension": ".py",
   "mimetype": "text/x-python",
   "name": "python",
   "nbconvert_exporter": "python",
   "pygments_lexer": "ipython3",
   "version": "3.10.0"
  }
 },
 "nbformat": 4,
 "nbformat_minor": 5
}
